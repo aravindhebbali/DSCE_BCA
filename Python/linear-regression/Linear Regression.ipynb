{
 "cells": [
  {
   "cell_type": "markdown",
   "metadata": {},
   "source": [
    "##### Linear Regression"
   ]
  },
  {
   "cell_type": "markdown",
   "metadata": {},
   "source": [
    "#### Libraries"
   ]
  },
  {
   "cell_type": "code",
   "execution_count": 10,
   "metadata": {},
   "outputs": [],
   "source": [
    "import numpy as np\n",
    "import pandas as pd\n",
    "import statsmodels.api as sm\n",
    "from sklearn import datasets"
   ]
  },
  {
   "cell_type": "markdown",
   "metadata": {},
   "source": [
    "#### Data"
   ]
  },
  {
   "cell_type": "code",
   "execution_count": 16,
   "metadata": {},
   "outputs": [],
   "source": [
    "data = datasets.load_boston()\n",
    "df = pd.DataFrame(data.data, columns=data.feature_names)\n",
    "target = pd.DataFrame(data.target, columns=[\"MEDV\"])"
   ]
  },
  {
   "cell_type": "markdown",
   "metadata": {},
   "source": [
    "#### Regression"
   ]
  },
  {
   "cell_type": "code",
   "execution_count": 20,
   "metadata": {},
   "outputs": [
    {
     "name": "stdout",
     "output_type": "stream",
     "text": [
      "                            OLS Regression Results                            \n",
      "==============================================================================\n",
      "Dep. Variable:                   MEDV   R-squared:                       0.484\n",
      "Model:                            OLS   Adj. R-squared:                  0.483\n",
      "Method:                 Least Squares   F-statistic:                     471.8\n",
      "Date:                Wed, 18 Apr 2018   Prob (F-statistic):           2.49e-74\n",
      "Time:                        01:29:51   Log-Likelihood:                -1673.1\n",
      "No. Observations:                 506   AIC:                             3350.\n",
      "Df Residuals:                     504   BIC:                             3359.\n",
      "Df Model:                           1                                         \n",
      "Covariance Type:            nonrobust                                         \n",
      "==============================================================================\n",
      "                 coef    std err          t      P>|t|      [0.025      0.975]\n",
      "------------------------------------------------------------------------------\n",
      "const        -34.6706      2.650    -13.084      0.000     -39.877     -29.465\n",
      "RM             9.1021      0.419     21.722      0.000       8.279       9.925\n",
      "==============================================================================\n",
      "Omnibus:                      102.585   Durbin-Watson:                   0.684\n",
      "Prob(Omnibus):                  0.000   Jarque-Bera (JB):              612.449\n",
      "Skew:                           0.726   Prob(JB):                    1.02e-133\n",
      "Kurtosis:                       8.190   Cond. No.                         58.4\n",
      "==============================================================================\n",
      "\n",
      "Warnings:\n",
      "[1] Standard Errors assume that the covariance matrix of the errors is correctly specified.\n"
     ]
    }
   ],
   "source": [
    "X = df[\"RM\"]\n",
    "X = sm.add_constant(X)\n",
    "y = target[\"MEDV\"]\n",
    "model = sm.OLS(y, X)\n",
    "results = mod.fit()\n",
    "print(results.summary())"
   ]
  },
  {
   "cell_type": "markdown",
   "metadata": {},
   "source": [
    "##### Predictions"
   ]
  },
  {
   "cell_type": "code",
   "execution_count": 21,
   "metadata": {},
   "outputs": [
    {
     "data": {
      "text/plain": [
       "0      25.175746\n",
       "1      23.774021\n",
       "2      30.728032\n",
       "3      29.025938\n",
       "4      30.382152\n",
       "5      23.855940\n",
       "6      20.051258\n",
       "7      21.507596\n",
       "8      16.583355\n",
       "9      19.978442\n",
       "10     23.373528\n",
       "11     20.023952\n",
       "12     18.931699\n",
       "13     19.477826\n",
       "14     20.815836\n",
       "15     18.431083\n",
       "16     19.350396\n",
       "17     19.851012\n",
       "18     14.990486\n",
       "19     17.457157\n",
       "20     16.028126\n",
       "21     19.623459\n",
       "22     21.234533\n",
       "23     18.239939\n",
       "24     19.250273\n",
       "25     16.292087\n",
       "26     18.239939\n",
       "27     20.369832\n",
       "28     24.447577\n",
       "29     26.076855\n",
       "         ...    \n",
       "476    24.347454\n",
       "477    13.606965\n",
       "478    21.625923\n",
       "479    22.026416\n",
       "480    22.144743\n",
       "481    26.768615\n",
       "482    29.599371\n",
       "483    17.775731\n",
       "484    18.767861\n",
       "485    22.781891\n",
       "486    20.979674\n",
       "487    19.077333\n",
       "488    14.972282\n",
       "489    14.608197\n",
       "490    11.686420\n",
       "491    19.787297\n",
       "492    19.787297\n",
       "493    17.275115\n",
       "494    19.268477\n",
       "495    16.938337\n",
       "496    14.389747\n",
       "497    18.066999\n",
       "498    20.114973\n",
       "499    16.019024\n",
       "500    20.187790\n",
       "501    25.339584\n",
       "502    21.034286\n",
       "503    28.825691\n",
       "504    27.169108\n",
       "505    20.215096\n",
       "Length: 506, dtype: float64"
      ]
     },
     "execution_count": 21,
     "metadata": {},
     "output_type": "execute_result"
    }
   ],
   "source": [
    "predictions = results.predict(X)\n",
    "predictions"
   ]
  },
  {
   "cell_type": "markdown",
   "metadata": {},
   "source": [
    "##### Parameters"
   ]
  },
  {
   "cell_type": "code",
   "execution_count": 22,
   "metadata": {},
   "outputs": [
    {
     "data": {
      "text/plain": [
       "const   -34.670621\n",
       "RM        9.102109\n",
       "dtype: float64"
      ]
     },
     "execution_count": 22,
     "metadata": {},
     "output_type": "execute_result"
    }
   ],
   "source": [
    "results.params"
   ]
  },
  {
   "cell_type": "code",
   "execution_count": 23,
   "metadata": {},
   "outputs": [
    {
     "data": {
      "text/plain": [
       "0.48352545599133423"
      ]
     },
     "execution_count": 23,
     "metadata": {},
     "output_type": "execute_result"
    }
   ],
   "source": [
    "results.rsquared"
   ]
  },
  {
   "cell_type": "code",
   "execution_count": null,
   "metadata": {},
   "outputs": [],
   "source": []
  }
 ],
 "metadata": {
  "kernelspec": {
   "display_name": "Python 3",
   "language": "python",
   "name": "python3"
  },
  "language_info": {
   "codemirror_mode": {
    "name": "ipython",
    "version": 3
   },
   "file_extension": ".py",
   "mimetype": "text/x-python",
   "name": "python",
   "nbconvert_exporter": "python",
   "pygments_lexer": "ipython3",
   "version": "3.6.4"
  }
 },
 "nbformat": 4,
 "nbformat_minor": 2
}
